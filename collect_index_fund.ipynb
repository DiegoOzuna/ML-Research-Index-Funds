{
 "cells": [
  {
   "cell_type": "code",
   "execution_count": 2,
   "metadata": {},
   "outputs": [],
   "source": [
    "#The program will call onto yahoo's finance api to get market data\n",
    "import yfinance as yf"
   ]
  },
  {
   "cell_type": "code",
   "execution_count": 2,
   "metadata": {},
   "outputs": [],
   "source": [
    "#We will scrape a few websites to get the companies that are under an index\n",
    "from selenium import webdriver\n",
    "from bs4 import BeautifulSoup\n",
    "import time"
   ]
  },
  {
   "cell_type": "code",
   "execution_count": 3,
   "metadata": {},
   "outputs": [],
   "source": [
    "#The purpose of this function is to obtain the list of tick symbols of companies under an index\n",
    "def get_tickers(url):\n",
    "    #initialize driver (replace path as needed)\n",
    "    driver = webdriver.Chrome()\n",
    "\n",
    "    #open website provided\n",
    "    driver.get(url)\n",
    "\n",
    "    #Let the website load \n",
    "    time.sleep(5)\n",
    "\n",
    "    #Get the source of page and close\n",
    "    html = driver.page_source\n",
    "    driver.quit()\n",
    "\n",
    "    #Parse page source using beautiful soup\n",
    "    soup = BeautifulSoup(html, 'html.parser')\n",
    "\n",
    "    #Find the table with the ticker symbols...\n",
    "    table = soup.find('table', {'class': 'table table-hover table-borderless table-sm'})\n",
    "\n",
    "    #Get all the rows in the table\n",
    "    rows = table.find_all('tr')\n",
    "\n",
    "    #Initialize empty list to hold the ticker symbols found\n",
    "    tickers = []\n",
    "    names = []\n",
    "\n",
    "    #Loop through the rows (skip header)\n",
    "    for row in rows[1:]:\n",
    "        #Get the columns\n",
    "        cols = row.find_all('td')\n",
    "\n",
    "        #The ticker symbol is the second column\n",
    "        ticker = cols[2].text\n",
    "        name = cols[1].text\n",
    "\n",
    "        #Add the ticker symbol to the list\n",
    "        tickers.append(ticker)\n",
    "        names.append(name)\n",
    "    \n",
    "    return tickers, names\n"
   ]
  },
  {
   "cell_type": "code",
   "execution_count": 4,
   "metadata": {},
   "outputs": [
    {
     "name": "stdout",
     "output_type": "stream",
     "text": [
      "['MSFT', 'AAPL', 'NVDA', 'AMZN', 'META', 'GOOGL', 'BRK.B', 'GOOG', 'LLY', 'AVGO', 'JPM', 'TSLA', 'V', 'UNH', 'XOM', 'MA', 'JNJ', 'HD', 'PG', 'COST', 'AMD', 'ABBV', 'MRK', 'CRM', 'CVX', 'NFLX', 'WMT', 'ADBE', 'BAC', 'ACN', 'KO', 'TMO', 'LIN', 'PEP', 'MCD', 'DIS', 'ABT', 'WFC', 'CSCO', 'INTC', 'QCOM', 'INTU', 'ORCL', 'IBM', 'AMAT', 'GE', 'CAT', 'VZ', 'CMCSA', 'DHR', 'UBER', 'TXN', 'UNP', 'NOW', 'AMGN', 'PFE', 'PM', 'LOW', 'SPGI', 'ISRG', 'COP', 'HON', 'RTX', 'GS', 'LRCX', 'AXP', 'T', 'PLD', 'NKE', 'BKNG', 'SYK', 'ELV', 'ETN', 'BLK', 'BA', 'NEE', 'MS', 'MDT', 'TJX', 'PGR', 'UPS', 'C', 'VRTX', 'BMY', 'SBUX', 'MU', 'REGN', 'CB', 'SCHW', 'ADP', 'MMC', 'DE', 'BSX', 'CI', 'MDLZ', 'KLAC', 'AMT', 'LMT', 'CVS', 'ADI', 'GILD', 'PANW', 'FI', 'BX', 'SNPS', 'ZTS', 'TMUS', 'EQIX', 'CDNS', 'ICE', 'CME', 'SHW', 'TGT', 'WM', 'CSX', 'CMG', 'SO', 'DUK', 'CL', 'SLB', 'MO', 'ITW', 'ANET', 'MCK', 'ABNB', 'PH', 'BDX', 'EOG', 'USB', 'MPC', 'APH', 'NOC', 'TT', 'PSX', 'TDG', 'NXPI', 'ORLY', 'AON', 'PYPL', 'HCA', 'EMR', 'GD', 'PNC', 'MAR', 'MCO', 'PCAR', 'NSC', 'FDX', 'ROP', 'ECL', 'CEG', 'GM', 'PXD', 'MSI', 'AZO', 'CTAS', 'APD', 'FCX', 'ADSK', 'AJG', 'COF', 'HLT', 'EW', 'AIG', 'LULU', 'MMM', 'WELL', 'ROST', 'TRV', 'F', 'TFC', 'VLO', 'SPG', 'CCI', 'CARR', 'DXCM', 'CPRT', 'IDXX', 'MCHP', 'URI', 'IQV', 'DHI', 'DLR', 'NUE', 'OKE', 'WMB', 'PSA', 'SRE', 'AEP', 'FTNT', 'MET', 'TEL', 'MSCI', 'GWW', 'O', 'AFL', 'BK', 'MNST', 'FAST', 'A', 'KMB', 'AMP', 'HUM', 'AME', 'FIS', 'CNC', 'JCI', 'ALL', 'LHX', 'HES', 'SYY', 'STZ', 'OXY', 'DOW', 'LEN', 'PRU', 'COR', 'CTSH', 'YUM', 'OTIS', 'PAYX', 'D', 'CMI', 'ODFL', 'NEM', 'CTVA', 'RSG', 'GIS', 'MLM', 'IR', 'EXC', 'GEHC', 'IT', 'CSGP', 'VMC', 'PWR', 'VRSK', 'PCG', 'MPWR', 'EL', 'KMI', 'DG', 'GPN', 'EA', 'ON', 'ROK', 'CDW', 'KVUE', 'PPG', 'ACGL', 'KR', 'FANG', 'EFX', 'PEG', 'MRNA', 'HAL', 'BIIB', 'FICO', 'DLTR', 'ED', 'DFS', 'BKR', 'XYL', 'EXR', 'VICI', 'RCL', 'DD', 'FTV', 'KDP', 'DVN', 'HIG', 'ANSS', 'ADM', 'CHTR', 'HSY', 'WTW', 'CBRE', 'KHC', 'MTD', 'CAH', 'KEYS', 'ULTA', 'DAL', 'TSCO', 'XEL', 'HWM', 'ZBH', 'RMD', 'WST', 'EBAY', 'TROW', 'LYB', 'AVB', 'EIX', 'WAB', 'HPQ', 'WEC', 'WY', 'CHD', 'GLW', 'FITB', 'BLDR', 'NVR', 'MTB', 'PHM', 'BR', 'DOV', 'SBAC', 'HPE', 'AWK', 'IRM', 'RJF', 'TRGP', 'TTWO', 'DTE', 'STT', 'STE', 'APTV', 'MOH', 'AXON', 'ETR', 'BAX', 'GRMN', 'NTAP', 'ALGN', 'PTC', 'EQR', 'ILMN', 'GPC', 'DRI', 'LUV', 'HUBB', 'WDC', 'ES', 'WAT', 'FLT', 'INVH', 'CBOE', 'COO', 'CTRA', 'BALL', 'TDY', 'BRO', 'PPL', 'IFF', 'HBAN', 'STLD', 'VLTO', 'ARE', 'JBL', 'NDAQ', 'FE', 'STX', 'LVS', 'AEE', 'CLX', 'J', 'LH', 'RF', 'HOLX', 'WBD', 'EXPE', 'PFG', 'IEX', 'NTRS', 'LDOS', 'FDS', 'CNP', 'OMC', 'CINF', 'EPAM', 'TXT', 'AVY', 'TYL', 'CMS', 'EXPD', 'MKC', 'MAS', 'VTR', 'WRB', 'ENPH', 'FSLR', 'ATO', 'VRSN', 'SYF', 'PKG', 'AKAM', 'JBHT', 'SWKS', 'CCL', 'TER', 'EG', 'POOL', 'DPZ', 'CFG', 'EQT', 'ESS', 'TRMB', 'TSN', 'CF', 'WBA', 'CE', 'SNA', 'MAA', 'LW', 'VTRS', 'BBY', 'HST', 'ZBRA', 'UAL', 'MRO', 'NDSN', 'K', 'KEY', 'LYV', 'LKQ', 'DGX', 'SWK', 'L', 'NRG', 'CRL', 'BG', 'AMCR', 'RVTY', 'CAG', 'ALB', 'PNR', 'KMX', 'JKHY', 'ROL', 'IP', 'SJM', 'LNT', 'IPG', 'DOC', 'GEN', 'JNPR', 'KIM', 'TAP', 'EVRG', 'TECH', 'HII', 'MGM', 'PODD', 'WRK', 'UDR', 'ALLE', 'FFIV', 'QRVO', 'BF.B', 'INCY', 'TPR', 'AES', 'GL', 'NI', 'UHS', 'TFX', 'EMN', 'CPT', 'CTLT', 'AOS', 'BBWI', 'REG', 'MOS', 'NWSA', 'HSIC', 'DAY', 'HRL', 'AAL', 'WYNN', 'MTCH', 'AIZ', 'APA', 'BXP', 'CZR', 'PAYC', 'CPB', 'RHI', 'ETSY', 'NCLH', 'CHRW', 'MKTX', 'BEN', 'PNW', 'FMC', 'FRT', 'BWA', 'DVA', 'RL', 'FOXA', 'IVZ', 'XRAY', 'BIO', 'CMA', 'GNRC', 'HAS', 'MHK', 'ZION', 'WHR', 'VFC', 'PARA', 'FOX', 'NWS']\n",
      "['Microsoft Corp', 'Apple Inc.', 'Nvidia Corp', 'Amazon.com Inc', 'Meta Platforms, Inc. Class A', 'Alphabet Inc. Class A', 'Berkshire Hathaway Class B', 'Alphabet Inc. Class C', 'Eli Lilly & Co.', 'Broadcom Inc.', 'Jpmorgan Chase & Co.', 'Tesla, Inc.', 'Visa Inc.', 'Unitedhealth Group Incorporated', 'Exxon Mobil Corporation', 'Mastercard Incorporated', 'Johnson & Johnson', 'Home Depot, Inc.', 'Procter & Gamble Company', 'Costco Wholesale Corp', 'Advanced Micro Devices', 'Abbvie Inc.', 'Merck & Co., Inc.', 'Salesforce, Inc.', 'Chevron Corporation', 'Netflix Inc', 'Walmart Inc.', 'Adobe Inc.', 'Bank of America Corporation', 'Accenture Plc', 'Coca-Cola Company', 'Thermo Fisher Scientific, Inc.', 'Linde Plc', 'Pepsico, Inc.', \"Mcdonald's Corporation\", 'The Walt Disney Company', 'Abbott Laboratories', 'Wells Fargo & Co.', 'Cisco Systems, Inc.', 'Intel Corp', 'Qualcomm Inc', 'Intuit Inc', 'Oracle Corp', 'International Business Machines Corporation', 'Applied Materials Inc', 'General Electric Company', 'Caterpillar Inc.', 'Verizon Communications', 'Comcast Corp', 'Danaher Corporation', 'Uber Technologies, Inc.', 'Texas Instruments Incorporated', 'Union Pacific Corp.', 'Servicenow, Inc.', 'Amgen Inc', 'Pfizer Inc.', 'Philip Morris International Inc.', \"Lowe's Companies Inc.\", 'S&p Global Inc.', 'Intuitive Surgical Inc.', 'Conocophillips', 'Honeywell International, Inc.', 'Rtx Corporation', 'Goldman Sachs Group Inc.', 'Lam Research Corp', 'American Express Company', 'At&t Inc.', 'Prologis, Inc.', 'Nike, Inc.', 'Booking Holdings Inc.', 'Stryker Corporation', 'Elevance Health, Inc.', 'Eaton Corporation, Plcs', 'Blackrock, Inc.', 'Boeing Company', 'Nextra Energy, Inc.', 'Morgan Stanley', 'Medtronic Plc', 'Tjx Companies, Inc.', 'Progressive Corporation', 'United Parcel Service, Inc. Class B', 'Citigroup Inc.', 'Vertex Pharmaceuticals Inc', 'Bristol-Myers Squibb Co.', 'Starbucks Corp', 'Micron Technology, Inc.', 'Regeneron Pharmaceuticals Inc', 'Chubb Limited', 'The Charles Schwab Corporation', 'Automatic Data Processing', 'Marsh & Mclennan Companies, Inc.', 'Deere & Company', 'Boston Scientific Corp.', 'The Cigna Group', 'Mondelez International, Inc. Class A', 'Kla Corporation', 'American Tower Corporation', 'Lockheed Martin Corp.', 'Cvs Health Corporation', 'Analog Devices, Inc.', 'Gilead Sciences Inc', 'Palo Alto Networks, Inc.', 'Fiserv, Inc.', 'Blackstone Inc.', 'Synopsys Inc', 'Zoetis Inc.', 'T-Mobile Us, Inc.', 'Equinix, Inc. Reit', 'Cadence Design Systems', 'Intercontinental Exchange  Inc.', 'Cme Group Inc.', 'The Sherwin-Williams Company', 'Target Corporation', 'Waste Management, Inc.', 'Csx Corporation', 'Chipotle Mexican Grill, Inc.', 'The Southern Company', 'Duke Energy Corporation', 'Colgate-Palmolive Company', 'Schlumberger Limited', 'Altria Group, Inc.', 'Illinois Tool Works Inc.', 'Arista Networks', 'Mckesson Corporation', 'Airbnb, Inc. Class A', 'Parker-Hannifin Corporation', 'Becton, Dickinson and Co.', 'Eog Resources, Inc.', 'U.S. Bancorp', 'Marathon Petroleum Corporation', 'Amphenol Corporation', 'Northrop Grumman Corp.', 'Trane Technologies Plc', 'Phillips 66', 'Transdigm Group Incorporated', 'Nxp Semiconductors N.v.', \"O'reilly Automotive, Inc.\", 'Aon Plc Class A', 'Paypal Holdings, Inc.', 'Hca Healthcare, Inc.', 'Emerson Electric Co.', 'General Dynamics Corporation', 'Pnc Financial Services Group', 'Marriot International Class A', \"Moody's Corporation\", 'Paccar Inc', 'Norfolk Southern Corp.', 'Fedex Corporation', 'Roper Technologies, Inc.', 'Ecolab, Inc.', 'Constellation Energy Corporation', 'General Motors Company', 'Pioneer Natural Resource Co.', 'Motorola Solutions, Inc.', 'Autozone, Inc.', 'Cintas Corp', 'Air Products & Chemicals, Inc.', 'Freeport-Mcmoran Inc.', 'Autodesk Inc', 'Arthur J. Gallagher & Co.', 'Capital One Financial', 'Hilton Worldwide Holdings Inc.', 'Edwards Lifesciences Corp', 'American International Group, Inc.', 'Lululemon Athletica Inc.', '3m Company', 'Welltower Inc.', 'Ross Stores Inc', 'The Travelers Companies, Inc.', 'Ford Motor Company', 'Truist Financial Corporation', 'Valero Energy Corporation', 'Simon Property Group, Inc.', 'Crown Castle Inc.', 'Carrier Global Corporation', 'Dexcom, Inc.', 'Copart Inc', 'Idexx Laboratories Inc', 'Microchip Technology Inc', 'United Rentals, Inc.', 'Iqvia Holdings Inc.', 'D.R. Horton Inc.', 'Digital Realty Trust, Inc.', 'Nucor Corporation', 'Oneok, Inc.', 'Williams Companies Inc.', 'Public Storage', 'Sempra', 'American Electric Power Company, Inc.', 'Fortinet, Inc.', 'Metlife, Inc.', 'Te Connectivity Ltd', 'Msci, Inc.', 'W.W. Grainger, Inc.', 'Realty Income Corporation', 'Aflac Inc.', 'Bank of New York Mellon Corporation', 'Monster Beverage Corporation', 'Fastenal Co', 'Agilent Technologies Inc.', 'Kimberly-Clark Corp.', 'Ameriprise Financial, Inc.', 'Humana Inc.', 'Ametek, Inc.', 'Fidelity National Information Services, Inc.', 'Centene Corporation', 'Johnson Controls International Plc', 'The Allstate Corporation', 'L3harris Technologies, Inc.', 'Hess Corporation', 'Sysco Corporation', 'Constellation Brands, Inc.', 'Occidental Petroleum Corporation', 'Dow Inc.', 'Lennar Corporation Class A', 'Prudential Financial, Inc.', 'Cencora, Inc.', 'Cognizant Technology Solutions', 'Yum! Brands, Inc.', 'Otis Worldwide Corporation', 'Paychex Inc', 'Dominion Energy, Inc', 'Cummins Inc.', 'Old Dominion Freight Line', 'Newmont Corporation', 'Corteva, Inc.', 'Republic Services Inc.', 'General Mills, Inc.', 'Martin Marietta Materials', 'Ingersoll Rand Inc.', 'Exelon Corporation', 'Ge Healthcare Technologies Inc.', 'Gartner, Inc.', 'Costar Group Inc', 'Vulcan Materials Company', 'Quanta Services, Inc.', 'Verisk Analytics, Inc.', 'Pg&e Corporation', 'Monolithic Power Systems, Inc.', 'The Estee Lauder Companies Inc. Class A', 'Kinder Morgan, Inc.', 'Dollar General Corp.', 'Global Payments, Inc.', 'Electronic Arts Inc', 'On Semiconductor Corp', 'Rockwell Automation, Inc.', 'Cdw Corporation', 'Kenvue Inc.', 'Ppg Industries, Inc.', 'Arch Capital Group Ltd', 'The Kroger Co.', 'Diamondback Energy, Inc.', 'Equifax, Incorporated', 'Public Service Enterprise Group Incorporated', 'Moderna, Inc.', 'Halliburton Company', 'Biogen Inc.', 'Fair Isaac Corporation', 'Dollar Tree Inc.', 'Consolidated Edison, Inc.', 'Discover Financial Services', 'Baker Hughes Company', 'Xylem Inc', 'Extra Space Storage, Inc.', 'Vici Properties Inc.', 'Royal Caribbean Group', 'Dupont De Nemours, Inc.', 'Fortive Corporation', 'Keurig Dr Pepper Inc.', 'Devon Energy Corporation', 'The Hartford Financial Services Group, Inc.', 'Ansys Inc', 'Archer Daniels Midland Company', 'Charter Comm Inc Del Cl a', 'The Hershey Company', 'Willis Towers Watson Public Limited Companys', 'Cbre Group, Inc.', 'The Kraft Heinz Company', 'Mettler-Toledo International', 'Cardinal Health, Inc.', 'Keysight Technologies, Inc.', 'Ulta Beauty, Inc.', 'Delta Air Lines, Inc.', 'Tractor Supply Co', 'Xcel Energy, Inc.', 'Howmet Aerospace Inc.', 'Zimmer Biomet Holdings, Inc.', 'Resmed Inc.', 'West Pharmaceutical Services, Inc.', 'Ebay Inc', 'T Rowe Price Group Inc', 'Lyondellbasell Industries N.v. Class A', 'Avalonbay Communities, Inc.', 'Edison International', 'Wabtec Inc.', 'Hp Inc.', 'Wec Energy Group, Inc.', 'Weyerhaeuser Company', 'Church & Dwight Co., Inc.', 'Corning Incorporated', 'Fifth Third Bancorp', 'Builders Firstsource, Inc.', 'Nvr, Inc.', 'M&t Bank Corp.', 'Pultegroup, Inc.', 'Broadridge Financial Solutions Inc', 'Dover Corporation', 'Sba Communications Corp', 'Hewlett Packard Enterprise Company', 'American Water Works Company, Inc', 'Iron Mountain Inc.', 'Raymond James Financial, Inc.', 'Targa Resources Corp.', 'Take-Two Interactive Software Inc', 'Dte Energy Company', 'State Street Corporation', 'Steris Plc', 'Aptiv Plc', 'Molina Healthcare, Inc.', 'Axon Enterprise, Inc.', 'Entergy Corporation', 'Baxter International Inc.', 'Garmin Ltd', 'Netapp, Inc', 'Align Technology Inc', 'Ptc, Inc', 'Equity Residential', 'Illumina Inc', 'Genuine Parts Company', 'Darden Restaurants, Inc.', 'Southwest Airlines Co.', 'Hubbell Incorporated', 'Western Digital Corp.', 'Eversource Energy', 'Waters Corp', 'Fleetcor Technologies, Inc.', 'Invitation Homes Inc.', 'Cboe Global Markets, Inc.', 'The Cooper Companies, Inc.', 'Coterra Energy Inc.', 'Ball Corporation', 'Teledyne Technologies Incorporated', 'Brown & Brown, Inc.', 'Ppl Corporation', 'International Flavors & Fragrances Inc.', 'Huntington Bancshares Inc', 'Steel Dynamics Inc', 'Veralto Corporation', 'Alexandria Real Estate Equities, Inc.', 'Jabil Inc.', 'Nasdaq, Inc.', 'Firstenergy Corp.', 'Seagate Technology Holdings Plcs', 'Las Vegas Sands Corp.', 'Ameren Corporation', 'Clorox Company', 'Jacobs Solutions Inc.', 'Laboratory Corporation of America Holdings', 'Regions Financial Corp.', 'Hologic Inc', 'Warner Bros. Discovery, Inc. Series a', 'Expedia Group, Inc.', 'Principal Financial Group, Inc.', 'Idex Corporation', 'Northern Trust Corp', 'Leidos Holdings, Inc.', 'Factset Research Systems', 'Centerpoint Energy, Inc.', 'Omnicom Group Inc.', 'Cincinnati Financial Corp', 'Epam Systems, Inc.', 'Textron, Inc.', 'Avery Dennison Corp.', 'Tyler Technologies, Inc.', 'Cms Energy Corporation', 'Expeditors International of Washington, Inc.', 'Mccormick & Company, Incorporated Non-Vtg Cs', 'Masco Corporation', 'Ventas, Inc.', 'W.R. Berkley Corporation', 'Enphase Energy, Inc.', 'First Solar, Inc.', 'Atmos Energy Corporation', 'Verisign Inc', 'Synchrony Financial', 'Packaging Corp of America', 'Akamai Technologies Inc', 'Jb Hunt Transport Services Inc', 'Skyworks Solutions Inc', 'Carnival Corporation', 'Teradyne, Inc.', 'Everest Group, Ltd.', 'Pool Corporation', \"Domino's Pizza Inc.\", 'Citizens Financial Group, Inc.', 'Eqt Corp', 'Essex Property Trust, Inc', 'Trimble Inc.', 'Tyson Foods, Inc.', 'Cf Industries Holding, Inc.', 'Walgreens Boots Alliance, Inc', 'Celanese Corporation', 'Snap-on Incorporated', 'Mid-America Apartment Communities, Inc.', 'Lamb Weston Holdings, Inc.', 'Viatris Inc.', 'Best Buy Company, Inc.', 'Host Hotels & Resorts, Inc.', 'Zebra Technologies Corporation', 'United Airlines Holdings, Inc.', 'Marathon Oil Corporation', 'Nordson Corp', 'Kellanova', 'Keycorp', 'Live Nation Entertainment Inc.', 'Lkq Corporation', 'Quest Diagnostics Inc.', 'Stanley Black & Decker, Inc.', 'Loews Corporation', 'Nrg Energy, Inc.', 'Charles River Laboratories International, Inc.', 'Bunge Global Sa', 'Amcor Plcs', 'Revvity, Inc.', 'Conagra Brands, Inc.', 'Albemarle Corporation', 'Pentair Plc', 'Carmax Inc.', 'Henry (Jack) & Associates', 'Rollins, Inc.', 'International Paper Co.', 'The J.M. Smucker Company', 'Alliant Energy Corporation', 'The Interpublic Group of Companies, Inc.', 'Healthpeak Properties, Inc.', 'Gen Digital Inc.', 'Juniper Networks Inc', 'Kimco Realty Corp.', 'Molson Coors Beverage Company Class B', 'Evergy, Inc.', 'Bio-Techne Corp.', 'Huntington Ingalls Industries, Inc.', 'Mgm Resorts International', 'Insulet Corporation', 'Westrock Company', 'Udr, Inc.', 'Allegion Public Limited Company', 'F5, Inc.', 'Qorvo, Inc.', 'Brown-Forman Corporation Class B', 'Incyte Genomics Inc', 'Tapestry, Inc.', 'Aes Corporation', 'Globe Life Inc.', 'Nisource Inc.', 'Universal Health Services, Inc. Class B', 'Teleflex Incorporated', 'Eastman Chemical Company', 'Camden Property Trust', 'Catalent, Inc.', 'A.O. Smith Corporation', 'Bath & Body Works, Inc.', 'Regency Centers Corporation', 'The Mosaic Company', 'News Corporation Class A', 'Henry Schein Inc', 'Dayforce, Inc.', 'Hormel Foods Corporation', 'American Airlines Group Inc.', 'Wynn Resorts Ltd', 'Match Group, Inc', 'Assurant, Inc.', 'Apa Corporation', 'Boston Properties, Inc.', 'Caesars Entertainment, Inc.', 'Paycom Software, Inc.', 'Campbell Soup Company', 'Robert Half Inc.', 'Etsy, Inc.', 'Norwegian Cruise Line Holdings Ltd.s', 'C.H. Robinson Worldwide, Inc.', 'Marketaxess Holdings Inc.', 'Franklin Resources, Inc.', 'Pinnacle West Capital Corporation', 'Fmc Corporation', 'Federal Realty Investment Trust', 'Borgwarner Inc.', 'Davita Inc.', 'Ralph Lauren Corporation', 'Fox Corporation Class A', 'Invesco Ltd', 'Dentsply Sirona Inc.', 'Bio-Rad Laboratories, Inc.Class A', 'Comerica Incorporated', 'Generac Holdings Inc', 'Hasbro, Inc.', 'Mohawk Industries, Inc.', 'Zions Bancorporation N.a.', 'Whirlpool Corp.', 'V.F. Corporation', 'Paramount Global Class B', 'Fox Corporation Class B', 'News Corporation Class B']\n"
     ]
    }
   ],
   "source": [
    "#Use the function for S&P500...\n",
    "url = 'https://www.slickcharts.com/sp500'\n",
    "SPtickers, SPnames = get_tickers(url)\n",
    "print(SPtickers)\n",
    "print(SPnames)"
   ]
  },
  {
   "cell_type": "code",
   "execution_count": 5,
   "metadata": {},
   "outputs": [
    {
     "data": {
      "text/plain": [
       "True"
      ]
     },
     "execution_count": 5,
     "metadata": {},
     "output_type": "execute_result"
    }
   ],
   "source": [
    "#validate if tickers match names\n",
    "len(SPtickers) == len(SPnames)"
   ]
  },
  {
   "cell_type": "code",
   "execution_count": 6,
   "metadata": {},
   "outputs": [
    {
     "name": "stdout",
     "output_type": "stream",
     "text": [
      "['UNH', 'MSFT', 'GS', 'HD', 'CAT', 'CRM', 'MCD', 'V', 'AMGN', 'TRV', 'AXP', 'BA', 'HON', 'IBM', 'JPM', 'AMZN', 'AAPL', 'PG', 'JNJ', 'CVX', 'MRK', 'DIS', 'NKE', 'MMM', 'WMT', 'KO', 'DOW', 'CSCO', 'INTC', 'VZ']\n",
      "['Unitedhealth Group Inc', 'Microsoft Corp', 'Goldman Sachs Group Inc', 'Home Depot Inc', 'Caterpillar Inc', 'Salesforce Inc', 'Mcdonald S Corp', 'Visa Inc Class A Shares', 'Amgen Inc', 'Travelers Cos Inc', 'American Express Co', 'Boeing Co', 'Honeywell International Inc', 'Intl Business Machines Corp', 'Jpmorgan Chase & Co', 'Amazon.com Inc', 'Apple Inc', 'Procter & Gamble Co', 'Johnson & Johnson', 'Chevron Corp', 'Merck & Co. Inc.', 'Walt Disney Co', 'Nike Inc  Cl B', '3m Co', 'Walmart Inc', 'Coca Cola Co', 'Dow Inc', 'Cisco Systems Inc', 'Intel Corp', 'Verizon Communications Inc']\n"
     ]
    }
   ],
   "source": [
    "#Use the function for Dow Jones...\n",
    "url = 'https://www.slickcharts.com/dowjones'\n",
    "DJtickers, DJnames = get_tickers(url)\n",
    "print(DJtickers)\n",
    "print(DJnames)"
   ]
  },
  {
   "cell_type": "code",
   "execution_count": 7,
   "metadata": {},
   "outputs": [
    {
     "data": {
      "text/plain": [
       "True"
      ]
     },
     "execution_count": 7,
     "metadata": {},
     "output_type": "execute_result"
    }
   ],
   "source": [
    "#validate if tickers match names\n",
    "len(DJtickers) == len(DJnames)"
   ]
  },
  {
   "cell_type": "code",
   "execution_count": 8,
   "metadata": {},
   "outputs": [
    {
     "name": "stdout",
     "output_type": "stream",
     "text": [
      "['MSFT', 'AAPL', 'NVDA', 'AMZN', 'META', 'AVGO', 'TSLA', 'COST', 'AMD', 'GOOGL', 'GOOG', 'NFLX', 'ADBE', 'PEP', 'CSCO', 'TMUS', 'INTC', 'QCOM', 'INTU', 'AMAT', 'CMCSA', 'TXN', 'AMGN', 'ISRG', 'HON', 'LRCX', 'BKNG', 'VRTX', 'MU', 'SBUX', 'REGN', 'ADP', 'MDLZ', 'KLAC', 'ADI', 'PANW', 'GILD', 'SNPS', 'ASML', 'CDNS', 'PDD', 'MELI', 'CSX', 'MAR', 'ABNB', 'MRVL', 'CRWD', 'NXPI', 'ORLY', 'CTAS', 'PYPL', 'MNST', 'PCAR', 'ROP', 'CEG', 'WDAY', 'LULU', 'FTNT', 'ADSK', 'CPRT', 'ROST', 'DASH', 'DXCM', 'ODFL', 'IDXX', 'MCHP', 'AEP', 'PAYX', 'KHC', 'FAST', 'GEHC', 'CHTR', 'KDP', 'CTSH', 'AZN', 'DDOG', 'EA', 'MRNA', 'TTD', 'EXC', 'CSGP', 'VRSK', 'ON', 'CDW', 'DLTR', 'FANG', 'CCEP', 'BIIB', 'ZS', 'TEAM', 'BKR', 'MDB', 'GFS', 'ANSS', 'XEL', 'SPLK', 'TTWO', 'ILMN', 'WBD', 'WBA', 'SIRI']\n",
      "['Microsoft Corp', 'Apple Inc', 'NVIDIA Corp', 'Amazon.com Inc', 'Meta Platforms Inc', 'Broadcom Inc', 'Tesla Inc', 'Costco Wholesale Corp', 'Advanced Micro Devices Inc', 'Alphabet Inc', 'Alphabet Inc', 'Netflix Inc', 'Adobe Inc', 'PepsiCo Inc', 'Cisco Systems Inc', 'T-Mobile US Inc', 'Intel Corp', 'QUALCOMM Inc', 'Intuit Inc', 'Applied Materials Inc', 'Comcast Corp', 'Texas Instruments Inc', 'Amgen Inc', 'Intuitive Surgical Inc', 'Honeywell International Inc', 'Lam Research Corp', 'Booking Holdings Inc', 'Vertex Pharmaceuticals Inc', 'Micron Technology Inc', 'Starbucks Corp', 'Regeneron Pharmaceuticals Inc', 'Automatic Data Processing Inc', 'Mondelez International Inc', 'KLA Corp', 'Analog Devices Inc', 'Palo Alto Networks Inc', 'Gilead Sciences Inc', 'Synopsys Inc', 'ASML Holding NV', 'Cadence Design Systems Inc', 'PDD Holdings Inc ADR', 'MercadoLibre Inc', 'CSX Corp', 'Marriott International Inc/MD', 'Airbnb Inc', 'Marvell Technology Inc', 'Crowdstrike Holdings Inc', 'NXP Semiconductors NV', \"O'Reilly Automotive Inc\", 'Cintas Corp', 'PayPal Holdings Inc', 'Monster Beverage Corp', 'PACCAR Inc', 'Roper Technologies Inc', 'Constellation Energy Corp', 'Workday Inc', 'Lululemon Athletica Inc', 'Fortinet Inc', 'Autodesk Inc', 'Copart Inc', 'Ross Stores Inc', 'DoorDash Inc', 'Dexcom Inc', 'Old Dominion Freight Line Inc', 'IDEXX Laboratories Inc', 'Microchip Technology Inc', 'American Electric Power Co Inc', 'Paychex Inc', 'Kraft Heinz Co/The', 'Fastenal Co', 'GE HealthCare Technologies Inc', 'Charter Communications Inc', 'Keurig Dr Pepper Inc', 'Cognizant Technology Solutions Corp', 'AstraZeneca PLC ADR', 'Datadog Inc', 'Electronic Arts Inc', 'Moderna Inc', 'Trade Desk Inc/The', 'Exelon Corp', 'CoStar Group Inc', 'Verisk Analytics Inc', 'ON Semiconductor Corp', 'CDW Corp/DE', 'Dollar Tree Inc', 'Diamondback Energy Inc', 'Coca-Cola Europacific Partners PLC', 'Biogen Inc', 'Zscaler Inc', 'Atlassian Corp', 'Baker Hughes Co', 'MongoDB Inc', 'GLOBALFOUNDRIES Inc', 'ANSYS Inc', 'Xcel Energy Inc', 'Splunk Inc', 'Take-Two Interactive Software Inc', 'Illumina Inc', 'Warner Bros Discovery Inc', 'Walgreens Boots Alliance Inc', 'Sirius XM Holdings Inc']\n"
     ]
    }
   ],
   "source": [
    "#Use the function for NASDAQ100...\n",
    "url = 'https://www.slickcharts.com/nasdaq100'\n",
    "NDtickers, NDnames = get_tickers(url)\n",
    "print(NDtickers)\n",
    "print(NDnames)"
   ]
  },
  {
   "cell_type": "code",
   "execution_count": 9,
   "metadata": {},
   "outputs": [
    {
     "data": {
      "text/plain": [
       "True"
      ]
     },
     "execution_count": 9,
     "metadata": {},
     "output_type": "execute_result"
    }
   ],
   "source": [
    "#validate if tickers match names\n",
    "len(NDtickers) == len(NDnames)"
   ]
  },
  {
   "cell_type": "code",
   "execution_count": 10,
   "metadata": {},
   "outputs": [],
   "source": [
    "#Define the ticker symbols for the indices\n",
    "indices = ['^GSPC', '^DJI', '^NDX'] #S&P 500, Dow Jones, and NASDAQ100"
   ]
  },
  {
   "cell_type": "code",
   "execution_count": 11,
   "metadata": {},
   "outputs": [],
   "source": [
    "# Get data for each index...\n",
    "for index in indices:\n",
    "    data = yf.Ticker(index).history(start='2010-1-1') \n",
    "    #we want a decade hisotory (2010 to 2020)\n",
    "    #we will grab up to current time 2024 for possible further use... \n",
    "    data.to_csv(f'{index}.csv')"
   ]
  },
  {
   "cell_type": "code",
   "execution_count": 12,
   "metadata": {},
   "outputs": [
    {
     "name": "stdout",
     "output_type": "stream",
     "text": [
      "['FICO', 'MRK', 'LYB', 'WBA', 'CINF', 'F', 'SBUX', 'HPE', 'MHK', 'VRSK', 'MDLZ', 'BBWI', 'VLO', 'PCAR', 'BBY', 'GWW', 'DLTR', 'ROK', 'PCG', 'CI', 'EXPE', 'ASML', 'VRTX', 'SNA', 'DVN', 'MDT', 'NDSN', 'LLY', 'HPQ', 'LNT', 'CNC', 'IQV', 'PKG', 'FITB', 'AEP', 'DE', 'HD', 'C', 'LW', 'XEL', 'NWSA', 'HLT', 'LULU', 'AMD', 'ODFL', 'CHD', 'L', 'BF.B', 'BX', 'EL', 'FDX', 'TAP', 'PNC', 'AWK', 'KLAC', 'APH', 'AIZ', 'WYNN', 'CTAS', 'TMO', 'CAT', 'SNPS', 'JKHY', 'HAS', 'MRNA', 'GOOG', 'NEE', 'KMB', 'XYL', 'ADP', 'EMR', 'IEX', 'BAX', 'PYPL', 'PAYC', 'KMI', 'TECH', 'ITW', 'AMP', 'AOS', 'WDC', 'CHTR', 'AEE', 'KVUE', 'EMN', 'JPM', 'EW', 'AES', 'CMI', 'EQIX', 'ROP', 'MS', 'META', 'RJF', 'EXR', 'GE', 'CRL', 'BWA', 'XRAY', 'STLD', 'INTU', 'DOW', 'ABNB', 'GPC', 'CNP', 'MAA', 'TSLA', 'MTB', 'PFE', 'HES', 'ATO', 'ICE', 'EXPD', 'ROL', 'PG', 'DGX', 'CRM', 'HON', 'CE', 'LH', 'EXC', 'TXN', 'WDAY', 'RTX', 'JBHT', 'COST', 'RHI', 'TTWO', 'DAY', 'LVS', 'EVRG', 'SPG', 'IPG', 'EFX', 'NRG', 'MNST', 'BKNG', 'CHRW', 'OMC', 'ZS', 'KEYS', 'APD', 'WFC', 'SBAC', 'KR', 'OTIS', 'NKE', 'MPWR', 'COF', 'DUK', 'USB', 'AMGN', 'AXP', 'AVGO', 'MSCI', 'BDX', 'CTSH', 'VTRS', 'UPS', 'AFL', 'BIIB', 'CZR', 'ABT', 'MELI', 'T', 'WAB', 'ECL', 'PXD', 'CDNS', 'LIN', 'QRVO', 'NSC', 'DASH', 'AVY', 'DDOG', 'GNRC', 'NOC', 'UNH', 'BIO', 'GLW', 'FFIV', 'UAL', 'HCA', 'PTC', 'HBAN', 'ANSS', 'DHR', 'QCOM', 'FCX', 'AMZN', 'ADSK', 'NEM', 'AZO', 'ENPH', 'KIM', 'GEN', 'ED', 'KHC', 'ULTA', 'ALL', 'BXP', 'DG', 'WMB', 'CCL', 'CPRT', 'NXPI', 'ROST', 'IDXX', 'FE', 'UBER', 'HSIC', 'COO', 'MA', 'HUBB', 'AON', 'AXON', 'CBOE', 'FTV', 'WMT', 'DXCM', 'NTRS', 'SHW', 'AZN', 'NDAQ', 'MSI', 'CCEP', 'SJM', 'BLK', 'TDG', 'HWM', 'AAPL', 'MSFT', 'TSN', 'ES', 'TEL', 'ADBE', 'PEG', 'WM', 'D', 'WRB', 'NCLH', 'AJG', 'DRI', 'GL', 'GFS', 'CTVA', 'TROW', 'MCHP', 'PM', 'MGM', 'MOH', 'MPC', 'HRL', 'IRM', 'MMM', 'WAT', 'NVR', 'CCI', 'MRVL', 'PH', 'HAL', 'BA', 'HSY', 'FLT', 'WEC', 'AMCR', 'SO', 'ON', 'ISRG', 'ALGN', 'SCHW', 'LOW', 'SWK', 'MCK', 'MCO', 'PHM', 'PSX', 'MRO', 'FSLR', 'CSX', 'OXY', 'GRMN', 'JCI', 'UNP', 'MDB', 'NOW', 'CSCO', 'ORLY', 'CLX', 'KMX', 'NI', 'TXT', 'TSCO', 'CVS', 'COP', 'SLB', 'TDY', 'STE', 'RSG', 'CMS', 'ZBRA', 'APTV', 'IFF', 'SRE', 'URI', 'INCY', 'XOM', 'AMAT', 'MAR', 'MLM', 'PPL', 'PNR', 'CME', 'TGT', 'LEN', 'CAH', 'STT', 'CF', 'ZTS', 'OKE', 'GD', 'WBD', 'DHI', 'GILD', 'EQR', 'A', 'CEG', 'ACGL', 'CAG', 'UDR', 'KEY', 'FIS', 'NWS', 'BRK.B', 'HIG', 'CTRA', 'INVH', 'CPT', 'HST', 'NUE', 'TRV', 'AVB', 'KO', 'TRGP', 'LDOS', 'MTCH', 'PPG', 'DVA', 'PARA', 'ZBH', 'COR', 'ADM', 'BLDR', 'PWR', 'LRCX', 'BK', 'CDW', 'SYF', 'RCL', 'PSA', 'VFC', 'POOL', 'NFLX', 'BKR', 'AMT', 'NVDA', 'LKQ', 'FOXA', 'CB', 'TTD', 'CARR', 'FDS', 'BSX', 'CL', 'TFC', 'AKAM', 'IVZ', 'CMA', 'STZ', 'AME', 'ESS', 'EBAY', 'LMT', 'VZ', 'BEN', 'HOLX', 'CRWD', 'ADI', 'IT', 'CSGP', 'STX', 'GEHC', 'RMD', 'GPN', 'MO', 'PDD', 'SWKS', 'UHS', 'BR', 'TMUS', 'WHR', 'RF', 'MMC', 'ARE', 'INTC', 'ETSY', 'BALL', 'PFG', 'MOS', 'ORCL', 'REGN', 'BMY', 'PEP', 'FRT', 'JNPR', 'IP', 'CFG', 'SYK', 'PANW', 'CMCSA', 'HII', 'JNJ', 'TT', 'EA', 'GIS', 'SIRI', 'O', 'SPLK', 'NTAP', 'DPZ', 'VTR', 'CMG', 'GS', 'CBRE', 'DOV', 'ALLE', 'APA', 'RL', 'ANET', 'PRU', 'ILMN', 'SPGI', 'EG', 'MAS', 'FANG', 'TRMB', 'PNW', 'DAL', 'FTNT', 'EIX', 'LHX', 'PAYX', 'DIS', 'VICI', 'BRO', 'IBM', 'TER', 'BG', 'REG', 'FI', 'ALB', 'MKC', 'DTE', 'ELV', 'VRSN', 'TJX', 'TPR', 'ABBV', 'DFS', 'PGR', 'VMC', 'LYV', 'JBL', 'WELL', 'FOX', 'GOOGL', 'ETN', 'ZION', 'RVTY', 'HUM', 'FAST', 'WY', 'AIG', 'PLD', 'MET', 'DLR', 'MU', 'TFX', 'J', 'CTLT', 'TEAM', 'TYL', 'CPB', 'FMC', 'K', 'LUV', 'SYY', 'KDP', 'PODD', 'EQT', 'DOC', 'CVX', 'ETR', 'DD', 'MTD', 'YUM', 'MCD', 'BAC', 'EPAM', 'IR', 'VLTO', 'V', 'WST', 'ACN', 'EOG', 'AAL', 'GM', 'MKTX', 'WRK', 'WTW']\n"
     ]
    }
   ],
   "source": [
    "#Merge all three lists to extract market informaton...\n",
    "combined_list = SPtickers + NDtickers + DJtickers\n",
    "\n",
    "#NOTE: we have to remove duplicates to avoid doing duplicate calls\n",
    "unique_tickers = list(set(combined_list))\n",
    "\n",
    "print(unique_tickers)"
   ]
  },
  {
   "cell_type": "code",
   "execution_count": 13,
   "metadata": {},
   "outputs": [
    {
     "name": "stderr",
     "output_type": "stream",
     "text": [
      "BF.B: No price data found, symbol may be delisted (1d 2010-1-1 -> 2024-03-07)\n",
      "BRK.B: No timezone found, symbol may be delisted\n"
     ]
    }
   ],
   "source": [
    "#Get data for eeach company\n",
    "for company in unique_tickers:\n",
    "    data = yf.Ticker(company).history(start='2010-1-1')\n",
    "    data.to_csv(f'{company}.csv')"
   ]
  },
  {
   "cell_type": "code",
   "execution_count": 1,
   "metadata": {},
   "outputs": [],
   "source": [
    "#Note: The above loop was unable to grab data from two markets. BF.B and BRK.B, this is because in yf its defined as\n",
    "#      BF-B and BRK-B. We will grab these ourselves.... "
   ]
  },
  {
   "cell_type": "code",
   "execution_count": 3,
   "metadata": {},
   "outputs": [],
   "source": [
    "data = yf.Ticker('BF-B').history(start='2010-1-1')\n",
    "data.to_csv(f'BF-B.csv')"
   ]
  },
  {
   "cell_type": "code",
   "execution_count": 4,
   "metadata": {},
   "outputs": [],
   "source": [
    "data = yf.Ticker('BRK-B').history(start='2010-1-1')\n",
    "data.to_csv(f'BRK-B.csv')"
   ]
  },
  {
   "cell_type": "code",
   "execution_count": null,
   "metadata": {},
   "outputs": [],
   "source": []
  }
 ],
 "metadata": {
  "kernelspec": {
   "display_name": ".venv",
   "language": "python",
   "name": "python3"
  },
  "language_info": {
   "codemirror_mode": {
    "name": "ipython",
    "version": 3
   },
   "file_extension": ".py",
   "mimetype": "text/x-python",
   "name": "python",
   "nbconvert_exporter": "python",
   "pygments_lexer": "ipython3",
   "version": "3.12.2"
  }
 },
 "nbformat": 4,
 "nbformat_minor": 2
}
